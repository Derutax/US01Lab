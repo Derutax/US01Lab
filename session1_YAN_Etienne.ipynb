{
 "cells": [
  {
   "cell_type": "code",
   "execution_count": 22,
   "metadata": {},
   "outputs": [
    {
     "data": {
      "text/plain": [
       "0                            Afghanistan\n",
       "1                                Albania\n",
       "2                                Armenia\n",
       "3                             Azerbaijan\n",
       "4                                Bahrain\n",
       "5                             Bangladesh\n",
       "6                                Belarus\n",
       "7                                 Bhutan\n",
       "8                 Bosnia and Herzegovina\n",
       "9                                 Brunei\n",
       "10                              Bulgaria\n",
       "11                              Cambodia\n",
       "12                                 China\n",
       "13                               Croatia\n",
       "14                        Czech Republic\n",
       "15                            East Timor\n",
       "16                                 Egypt\n",
       "17                               Estonia\n",
       "18                      France (Not BRI)\n",
       "19                               Georgia\n",
       "20                     Germany (not BRI)\n",
       "21                               Hungary\n",
       "22                                 India\n",
       "23                             Indonesia\n",
       "24                                  Iran\n",
       "25                                  Iraq\n",
       "26                                Israel\n",
       "27                                Jordan\n",
       "28                            Kazakhstan\n",
       "29                                Kuwait\n",
       "                     ...                \n",
       "38                               Moldova\n",
       "39                              Mongolia\n",
       "40                            Montenegro\n",
       "41                               Myanmar\n",
       "42                                 Nepal\n",
       "43                                  Oman\n",
       "44                              Pakistan\n",
       "45                           Philippines\n",
       "46                                Poland\n",
       "47                                 Qatar\n",
       "48                               Romania\n",
       "49                                Russia\n",
       "50                          Saudi Arabia\n",
       "51                                Serbia\n",
       "52                             Singapore\n",
       "53                              Slovakia\n",
       "54                              Slovenia\n",
       "55                             Sri Lanka\n",
       "56                                 Syria\n",
       "57                            Tajikistan\n",
       "58                             Thailiand\n",
       "59              The United Arab Emirates\n",
       "60                                Turkey\n",
       "61                          Turkmenistan\n",
       "62              United Kingdom (Not BRI)\n",
       "63    United States of America (Not BRI)\n",
       "64                               Ukraine\n",
       "65                            Uzbekistan\n",
       "66                               Vietnam\n",
       "67                                 Yemen\n",
       "Name: Country (according to CN Gov):, Length: 68, dtype: object"
      ]
     },
     "execution_count": 22,
     "metadata": {},
     "output_type": "execute_result"
    }
   ],
   "source": [
    "import pandas as pd\n",
    "path='C:\\\\Users\\\\yan_e\\\\Desktop\\\\JupyterLab\\\\Data-sheet-STUDENTS.xlsx'\n",
    "\n",
    "excelTab = pd.read_excel(path,header=2)\n",
    "excelTab['Country (according to CN Gov):']"
   ]
  },
  {
   "cell_type": "code",
   "execution_count": null,
   "metadata": {},
   "outputs": [],
   "source": []
  }
 ],
 "metadata": {
  "kernelspec": {
   "display_name": "Python 3",
   "language": "python",
   "name": "python3"
  },
  "language_info": {
   "codemirror_mode": {
    "name": "ipython",
    "version": 3
   },
   "file_extension": ".py",
   "mimetype": "text/x-python",
   "name": "python",
   "nbconvert_exporter": "python",
   "pygments_lexer": "ipython3",
   "version": "3.7.3"
  }
 },
 "nbformat": 4,
 "nbformat_minor": 4
}
