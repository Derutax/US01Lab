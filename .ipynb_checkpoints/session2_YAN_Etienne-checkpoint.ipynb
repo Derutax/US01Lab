{
 "cells": [
  {
   "cell_type": "markdown",
   "metadata": {},
   "source": [
    "## Wordbank country indicator analysis\n",
    "### import libraries"
   ]
  },
  {
   "cell_type": "code",
   "execution_count": null,
   "metadata": {},
   "outputs": [],
   "source": [
    "import pandas as pd\n",
    "import requests\n"
   ]
  },
  {
   "cell_type": "markdown",
   "metadata": {},
   "source": [
    "### Path to excel file"
   ]
  },
  {
   "cell_type": "code",
   "execution_count": null,
   "metadata": {},
   "outputs": [],
   "source": [
    "path='C:\\\\Users\\\\yan_e\\\\Desktop\\\\JupyterLab\\\\Data-sheet-STUDENTS.xlsx'"
   ]
  },
  {
   "cell_type": "markdown",
   "metadata": {},
   "source": [
    "### excelTab get the excel file header is LINE3 of excel (Country, Date, HF Index, Heritage...)"
   ]
  },
  {
   "cell_type": "code",
   "execution_count": null,
   "metadata": {},
   "outputs": [],
   "source": [
    "excelTab = pd.read_excel(path,header=2,index_col=0)"
   ]
  },
  {
   "cell_type": "code",
   "execution_count": null,
   "metadata": {},
   "outputs": [],
   "source": [
    "excelTab['Country (according to CN Gov):']"
   ]
  },
  {
   "cell_type": "code",
   "execution_count": null,
   "metadata": {},
   "outputs": [],
   "source": [
    "restCountryURL = 'https://restcountries.eu/rest/v2/name/'\n",
    "reqAnswer = ''\n",
    "isoCodes = {}"
   ]
  },
  {
   "cell_type": "code",
   "execution_count": null,
   "metadata": {},
   "outputs": [],
   "source": [
    "for index , name in excelTab['Country (according to CN Gov):'].items():\n",
    "    if name in isoCodes:\n",
    "        continue\n",
    "    reducedName= name.split('(')[0]\n",
    "    reducedName=reducedName.strip()\n",
    "    if reducedName == 'Thailiand':\n",
    "        reducedName = 'thailand'\n",
    "    if reducedName == 'The United Arab Emirates':\n",
    "        reducedName = 'United Arab Emirates'\n",
    "    ##if name[-1:]==' ':\n",
    "    ##    name = name[:-1]\n",
    "    req = requests.get(restCountryURL+reducedName)\n",
    "    if req.status_code ==200:\n",
    "        reqAnswer = req.json()\n",
    "        countryCode = reqAnswer[0]['alpha3Code']\n",
    "        isoCodes[name] = countryCode\n",
    "    else:\n",
    "        print('[ERROR]', req.status_code, req.text , name)"
   ]
  },
  {
   "cell_type": "code",
   "execution_count": null,
   "metadata": {},
   "outputs": [],
   "source": [
    "isoCodes"
   ]
  },
  {
   "cell_type": "markdown",
   "metadata": {},
   "source": []
  },
  {
   "cell_type": "code",
   "execution_count": null,
   "metadata": {},
   "outputs": [],
   "source": []
  },
  {
   "cell_type": "code",
   "execution_count": null,
   "metadata": {},
   "outputs": [],
   "source": []
  }
 ],
 "metadata": {
  "kernelspec": {
   "display_name": "Python 3",
   "language": "python",
   "name": "python3"
  },
  "language_info": {
   "codemirror_mode": {
    "name": "ipython",
    "version": 3
   },
   "file_extension": ".py",
   "mimetype": "text/x-python",
   "name": "python",
   "nbconvert_exporter": "python",
   "pygments_lexer": "ipython3",
   "version": "3.7.3"
  }
 },
 "nbformat": 4,
 "nbformat_minor": 4
}
