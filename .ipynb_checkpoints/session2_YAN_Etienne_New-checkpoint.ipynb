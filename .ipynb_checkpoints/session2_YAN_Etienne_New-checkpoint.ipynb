{
 "cells": [
  {
   "cell_type": "markdown",
   "metadata": {},
   "source": [
    "## Wordbank country indicator analysis\n",
    "### import libraries"
   ]
  },
  {
   "cell_type": "code",
   "execution_count": 3,
   "metadata": {},
   "outputs": [],
   "source": [
    "import pandas as pd\n",
    "import requests"
   ]
  },
  {
   "cell_type": "markdown",
   "metadata": {},
   "source": [
    "## Path to excel file"
   ]
  },
  {
   "cell_type": "code",
   "execution_count": 5,
   "metadata": {},
   "outputs": [],
   "source": [
    "path='C:\\\\Users\\\\yan_e\\\\Desktop\\\\JupyterLab\\\\Data-sheet-STUDENTS.xlsx'"
   ]
  },
  {
   "cell_type": "markdown",
   "metadata": {},
   "source": [
    "### excelTab get the excel file header is LINE3 of excel (Country, Date, HF Index, Heritage...)"
   ]
  },
  {
   "cell_type": "code",
   "execution_count": 7,
   "metadata": {},
   "outputs": [],
   "source": [
    "excelTab = pd.read_excel(path,header=2,index_col=0)"
   ]
  },
  {
   "cell_type": "code",
   "execution_count": 9,
   "metadata": {},
   "outputs": [],
   "source": [
    "##excelTab['Country (according to CN Gov):'] ##Show list of countries"
   ]
  },
  {
   "cell_type": "markdown",
   "metadata": {},
   "source": [
    "## Getting isocode3 + exceptions (India, Thialand, UAE, paranthesis city)"
   ]
  },
  {
   "cell_type": "code",
   "execution_count": 11,
   "metadata": {},
   "outputs": [],
   "source": [
    "restCountryURL = 'https://restcountries.eu/rest/v2/name/'\n",
    "reqAnswer = ''\n",
    "isoCodes = {}"
   ]
  },
  {
   "cell_type": "code",
   "execution_count": 12,
   "metadata": {},
   "outputs": [],
   "source": [
    "for index , name in excelTab['Country (according to CN Gov):'].items():\n",
    "    if name in isoCodes:\n",
    "        continue\n",
    "    reducedName= name.split('(')[0]\n",
    "    reducedName=reducedName.strip()\n",
    "    if reducedName == 'Thailiand':\n",
    "        reducedName = 'thailand'\n",
    "    if reducedName == 'The United Arab Emirates':\n",
    "        reducedName = 'United Arab Emirates'\n",
    "    ##if name[-1:]==' ':\n",
    "    ##    name = name[:-1]\n",
    "    req = requests.get(restCountryURL+reducedName)\n",
    "    if req.status_code ==200:\n",
    "        reqAnswer = req.json()\n",
    "        countryCode = reqAnswer[0]['alpha3Code']\n",
    "        if countryCode =='IOT':\n",
    "            countryCode = reqAnswer[1]['alpha3Code']\n",
    "        isoCodes[name] = countryCode\n",
    "    else:\n",
    "        print('[ERROR]', req.status_code, req.text , name)"
   ]
  },
  {
   "cell_type": "code",
   "execution_count": 14,
   "metadata": {},
   "outputs": [],
   "source": [
    "excelTab['isocode'] = excelTab['Country (according to CN Gov):'].apply(lambda x: isoCodes[x]) ##Apply isocode to excel"
   ]
  },
  {
   "cell_type": "code",
   "execution_count": 15,
   "metadata": {},
   "outputs": [],
   "source": [
    "indicatorDone={}\n",
    "indicators = ['FB.AST.NPER.ZS','GC.TAX.IMPT.ZS','IS.RRS.GOOD.MT.K6','NE.CON.PRVT.PP.CD','GB.XPD.RSDV.GD.ZS','SP.POP.SCIE.RD.P6','BX.KLT.DINV.WD.GD.ZS','SH.XPD.CHEX.PP.CD','GB.XPD.RSDV.GD.ZS','IP.TMK.RSCT','IP.PAT.RESD']"
   ]
  },
  {
   "cell_type": "code",
   "execution_count": null,
   "metadata": {},
   "outputs": [],
   "source": [
    "for indic in indicators:\n",
    "    if indic in indicatorDone:\n",
    "        continue\n",
    "    for index , name in excelTab['isocode'].items():\n",
    "        if name in \n",
    "        req = requests.get('http://api.worldbank.org/v2/country/'+excelTab['isocode'][index]+'/indicator/'+indic+'?format=json')\n",
    "        reqAnswer = req.json()\n",
    "        indexJ=1\n",
    "        done = 0\n",
    "        while not done : \n",
    "            if indexJ<len(reqAnswer[1]):\n",
    "                if reqAnswer[1][indexJ]['value']!=None:\n",
    "                    done=1\n",
    "                    valueData[name] = reqAnswer[1][indexJ]['value']\n",
    "                if indexJ==10:    \n",
    "                    valueData[name] = 0\n",
    "                    break\n",
    "            else:\n",
    "                valueData[name]=0\n",
    "                break\n",
    "            indexJ=indexJ+1\n",
    "    if (indic == 'FB.AST.NPER.ZS'):\n",
    "        excelURL = 'WB IMF Non-performing loans to total gross loans ratio (%)'\n",
    "    elif (indic == 'GC.TAX.IMPT.ZS' ):\n",
    "        excelURL = 'IMF WB \\nCustoms and other import duties (% of tax revenue) 2016'\n",
    "    elif(indic == 'IS.RRS.GOOD.MT.K6'):\n",
    "        excelURL = 'UIC Rail freight (mn ton x km travelled)'\n",
    "        excelTab[excelURL] = excelTab['isocode'].apply(lambda x: valueData[x])valueData\n",
    "        excelURL = 'ICAO air freight (mn ton x km travelled)'\n",
    "    elif (indic =='NE.CON.PRVT.PP.CD'):\n",
    "        excelURL = 'WB Household final consumption expenditure, PPP bn USD'\n",
    "    elif (indic == 'GB.XPD.RSDV.GD.ZS'):\n",
    "        excelURL = 'WB UNESCO R&D Expenditure % of GDP'\n",
    "    elif (indic =='SP.POP.SCIE.RD.P6'):\n",
    "        excelURL = 'WB UNESCO Researchers p. mn inhabitants'\n",
    "    elif (indic =='BX.KLT.DINV.WD.GD.ZS'):\n",
    "        excelURL = 'IFDI Net Inflows (% of GDP)'\n",
    "    elif (indic == 'SH.XPD.CHEX.PP.CD'):\n",
    "        excelURL = 'WHO Current Health Expenditure p.c., PPP USD'\n",
    "    elif (indic == 'GB.XPD.RSDV.GD.ZS'):\n",
    "        excelURL = 'WB Research Expenditure % of GDP'\n",
    "    elif (indic == 'IP.TMK.RSCT'):\n",
    "        excelURL = 'WIPO Trademark applications'\n",
    "    elif (indic == 'IP.PAT.RESD'):\n",
    "            excelURL = 'WIPO Patent Applications'  \n",
    "    excelTab[excelURL] = excelTab['isocode'].apply(lambda x: valueData[x])valueData"
   ]
  }
 ],
 "metadata": {
  "kernelspec": {
   "display_name": "Python 3",
   "language": "python",
   "name": "python3"
  },
  "language_info": {
   "codemirror_mode": {
    "name": "ipython",
    "version": 3
   },
   "file_extension": ".py",
   "mimetype": "text/x-python",
   "name": "python",
   "nbconvert_exporter": "python",
   "pygments_lexer": "ipython3",
   "version": "3.7.3"
  }
 },
 "nbformat": 4,
 "nbformat_minor": 4
}
