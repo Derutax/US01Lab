{
 "cells": [
  {
   "cell_type": "code",
   "execution_count": 1,
   "metadata": {
    "collapsed": true,
    "jupyter": {
     "outputs_hidden": true
    }
   },
   "outputs": [
    {
     "ename": "NameError",
     "evalue": "name 'excelTab' is not defined",
     "output_type": "error",
     "traceback": [
      "\u001b[1;31m---------------------------------------------------------------------------\u001b[0m",
      "\u001b[1;31mNameError\u001b[0m                                 Traceback (most recent call last)",
      "\u001b[1;32m<ipython-input-1-d3cc96d68aad>\u001b[0m in \u001b[0;36m<module>\u001b[1;34m\u001b[0m\n\u001b[1;32m----> 1\u001b[1;33m \u001b[1;32mfor\u001b[0m \u001b[0mindex\u001b[0m \u001b[1;33m,\u001b[0m \u001b[0mname\u001b[0m \u001b[1;32min\u001b[0m \u001b[0mexcelTab\u001b[0m\u001b[1;33m[\u001b[0m\u001b[1;34m'isocode'\u001b[0m\u001b[1;33m]\u001b[0m\u001b[1;33m.\u001b[0m\u001b[0mitems\u001b[0m\u001b[1;33m(\u001b[0m\u001b[1;33m)\u001b[0m\u001b[1;33m:\u001b[0m\u001b[1;33m\u001b[0m\u001b[1;33m\u001b[0m\u001b[0m\n\u001b[0m\u001b[0;32m      2\u001b[0m     \u001b[1;32mif\u001b[0m \u001b[0mname\u001b[0m \u001b[1;32min\u001b[0m \u001b[0misoDone\u001b[0m\u001b[1;33m:\u001b[0m\u001b[1;33m\u001b[0m\u001b[1;33m\u001b[0m\u001b[0m\n\u001b[0;32m      3\u001b[0m         \u001b[1;32mcontinue\u001b[0m\u001b[1;33m\u001b[0m\u001b[1;33m\u001b[0m\u001b[0m\n\u001b[0;32m      4\u001b[0m     \u001b[0mreq\u001b[0m \u001b[1;33m=\u001b[0m \u001b[0mrequests\u001b[0m\u001b[1;33m.\u001b[0m\u001b[0mget\u001b[0m\u001b[1;33m(\u001b[0m\u001b[1;34m'http://api.worldbank.org/v2/country/'\u001b[0m\u001b[1;33m+\u001b[0m\u001b[0mexcelTab\u001b[0m\u001b[1;33m[\u001b[0m\u001b[1;34m'isocode'\u001b[0m\u001b[1;33m]\u001b[0m\u001b[1;33m[\u001b[0m\u001b[0mindex\u001b[0m\u001b[1;33m]\u001b[0m\u001b[1;33m+\u001b[0m\u001b[1;34m'/indicator/FB.AST.NPER.ZS?format=json'\u001b[0m\u001b[1;33m)\u001b[0m\u001b[1;33m\u001b[0m\u001b[1;33m\u001b[0m\u001b[0m\n\u001b[0;32m      5\u001b[0m     \u001b[0mreq\u001b[0m\u001b[1;33m.\u001b[0m\u001b[0mstatus_code\u001b[0m\u001b[1;33m\u001b[0m\u001b[1;33m\u001b[0m\u001b[0m\n",
      "\u001b[1;31mNameError\u001b[0m: name 'excelTab' is not defined"
     ]
    }
   ],
   "source": [
    "for index , name in excelTab['isocode'].items():\n",
    "    if name in isoDone:\n",
    "        continue\n",
    "    req = requests.get('http://api.worldbank.org/v2/country/'+excelTab['isocode'][index]+'/indicator/FB.AST.NPER.ZS?format=json')\n",
    "    req.status_code\n",
    "    reqAnswer = req.json()\n",
    "    indexJ=1\n",
    "    done= 0\n",
    "    while not done : \n",
    "        if reqAnswer[1][indexJ]['value']!=None:\n",
    "            done=1\n",
    "            isoDone[name] = reqAnswer[1][indexJ]['value']\n",
    "        if indexJ==10:    \n",
    "            isoDone[name] =0\n",
    "            break\n",
    "        indexJ=indexJ+1\n",
    "    ##break\n",
    "    ##print(req.json())\n",
    "    ##req.json()\n",
    "    ##old version"
   ]
  },
  {
   "cell_type": "code",
   "execution_count": null,
   "metadata": {},
   "outputs": [],
   "source": [
    "for index , name in excelTab['Country (according to CN Gov):'].items():\n",
    "    if name in isoCodes:\n",
    "        continue\n",
    "    reducedName= name.split('(')[0]\n",
    "    reducedName=reducedName.strip()\n",
    "    if reducedName == 'Thailiand':\n",
    "        reducedName = 'thailand'\n",
    "    if reducedName == 'The United Arab Emirates':\n",
    "        reducedName = 'United Arab Emirates'\n",
    "    ##if name[-1:]==' ':\n",
    "    ##    name = name[:-1]\n",
    "    req = requests.get(restCountryURL+reducedName)\n",
    "    if req.status_code ==200:\n",
    "        reqAnswer = req.json()\n",
    "        countryCode = reqAnswer[0]['alpha3Code']\n",
    "        if countryCode =='IOT':\n",
    "            countryCode = reqAnswer[1]['alpha3Code']\n",
    "        isoCodes[name] = countryCode\n",
    "    else:\n",
    "        print('[ERROR]', req.status_code, req.text , name)\n",
    "excelTab['isocode'] = excelTab['Country (according to CN Gov):'].apply(lambda x: isoCodes[x])"
   ]
  }
 ],
 "metadata": {
  "kernelspec": {
   "display_name": "Python 3",
   "language": "python",
   "name": "python3"
  },
  "language_info": {
   "codemirror_mode": {
    "name": "ipython",
    "version": 3
   },
   "file_extension": ".py",
   "mimetype": "text/x-python",
   "name": "python",
   "nbconvert_exporter": "python",
   "pygments_lexer": "ipython3",
   "version": "3.7.3"
  }
 },
 "nbformat": 4,
 "nbformat_minor": 4
}
